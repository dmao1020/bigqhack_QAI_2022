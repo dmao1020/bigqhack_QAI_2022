{
  "nbformat": 4,
  "nbformat_minor": 0,
  "metadata": {
    "colab": {
      "name": "QAOA_tutorial.ipynb",
      "provenance": [],
      "collapsed_sections": [],
      "authorship_tag": "ABX9TyO7VKbGrWbo+vgPye/x0a6t",
      "include_colab_link": true
    },
    "kernelspec": {
      "name": "python3",
      "display_name": "Python 3"
    },
    "language_info": {
      "name": "python"
    }
  },
  "cells": [
    {
      "cell_type": "markdown",
      "metadata": {
        "id": "view-in-github",
        "colab_type": "text"
      },
      "source": [
        "<a href=\"https://colab.research.google.com/github/dmao1020/bigqhack_QAI_2022/blob/main/QAOA_tutorial.ipynb\" target=\"_parent\"><img src=\"https://colab.research.google.com/assets/colab-badge.svg\" alt=\"Open In Colab\"/></a>"
      ]
    },
    {
      "cell_type": "code",
      "execution_count": 18,
      "metadata": {
        "id": "zujYWfwtqeua"
      },
      "outputs": [],
      "source": [
        "#pip install pulser"
      ]
    },
    {
      "cell_type": "code",
      "source": [
        "#pip install igraph"
      ],
      "metadata": {
        "id": "CJYOG5y3qg8j"
      },
      "execution_count": 96,
      "outputs": []
    },
    {
      "cell_type": "code",
      "source": [
        "import numpy as np\n",
        "import igraph\n",
        "from itertools import combinations\n",
        "\n",
        "import matplotlib.pyplot as plt\n",
        "\n",
        "from pulser import Pulse, Sequence, Register\n",
        "from pulser_simulation import Simulation\n",
        "from pulser.devices import Chadoq2\n",
        "\n",
        "from scipy.optimize import minimize"
      ],
      "metadata": {
        "id": "jh42cTo1qjgQ"
      },
      "execution_count": 439,
      "outputs": []
    },
    {
      "cell_type": "code",
      "source": [
        "def pos_to_graph(pos):\n",
        "    rb = Chadoq2.rydberg_blockade_radius(1.0)\n",
        "    g = igraph.Graph()\n",
        "    N = len(pos)\n",
        "    edges = [\n",
        "        [m, n]\n",
        "        for m, n in combinations(range(N), r=2)\n",
        "        if np.linalg.norm(pos[m] - pos[n]) < rb\n",
        "    ]\n",
        "    g.add_vertices(N)\n",
        "    g.add_edges(edges)\n",
        "    return g"
      ],
      "metadata": {
        "id": "YUg-GiYVqn0g"
      },
      "execution_count": 440,
      "outputs": []
    },
    {
      "cell_type": "code",
      "source": [
        "\n",
        "pos =np.array([[0.0, 0.0], \n",
        "               [0.0, -10.0],\n",
        "               [-8, -15], \n",
        "               [8, -15], \n",
        "               [8, 6], \n",
        "               [-8, 6]])\n",
        "#([[0,1],[0,2],[0,3],[1,4],[1,5]])\n",
        "#\n",
        "#pos = np.array([[0.0, 0.0], [-4, -7], [4, -7], [8, 6], [-8, 6]])\n",
        "\n",
        "G = pos_to_graph(pos)\n",
        "qubits = dict(enumerate(pos))\n",
        "\n",
        "reg = Register(qubits)\n",
        "reg.draw(\n",
        "    blockade_radius=Chadoq2.rydberg_blockade_radius(1.0),\n",
        "    draw_graph=True,\n",
        "    draw_half_radius=True,\n",
        ")"
      ],
      "metadata": {
        "colab": {
          "base_uri": "https://localhost:8080/",
          "height": 347
        },
        "id": "qNK8BKVOrG-X",
        "outputId": "7dcd33d3-4bba-42c8-f9cd-039518857f90"
      },
      "execution_count": 441,
      "outputs": [
        {
          "output_type": "display_data",
          "data": {
            "text/plain": [
              "<Figure size 288x378 with 1 Axes>"
            ],
            "image/png": "[encoded data removed]"
          },
          "metadata": {
            "needs_background": "light"
          }
        }
      ]
    },
    {
      "cell_type": "code",
      "source": [
        "LAYERS = 3\n",
        "\n",
        "# Parametrized sequence\n",
        "seq = Sequence(reg, Chadoq2)\n",
        "seq.declare_channel(\"ch0\", \"rydberg_global\")\n",
        "\n",
        "t_list = seq.declare_variable(\"t_list\", size=LAYERS)\n",
        "s_list = seq.declare_variable(\"s_list\", size=LAYERS)\n",
        "\n",
        "if LAYERS == 1:\n",
        "    t_list = [t_list]\n",
        "    s_list = [s_list]\n",
        "\n",
        "for t, s in zip(t_list, s_list):\n",
        "    pulse_1 = Pulse.ConstantPulse(1000 * t, 1.0, 0.0, 0)\n",
        "    pulse_2 = Pulse.ConstantPulse(1000 * s, 1.0, 1.0, 0)\n",
        "\n",
        "    seq.add(pulse_1, \"ch0\")\n",
        "    seq.add(pulse_2, \"ch0\")\n",
        "\n",
        "seq.measure(\"ground-rydberg\")"
      ],
      "metadata": {
        "id": "SkMpsVE-_X08"
      },
      "execution_count": 442,
      "outputs": []
    },
    {
      "cell_type": "code",
      "source": [
        "def quantum_loop(parameters):\n",
        "    params = np.array(parameters)\n",
        "    t_params, s_params = np.reshape(params.astype(int), (2, LAYERS))\n",
        "    assigned_seq = seq.build(t_list=t_params, s_list=s_params)\n",
        "    simul = Simulation(assigned_seq, sampling_rate=0.01)\n",
        "    results = simul.run()\n",
        "    count_dict = results.sample_final_state()  # sample from the state vector\n",
        "    return count_dict"
      ],
      "metadata": {
        "id": "VQ0xaQOCTHI0"
      },
      "execution_count": 443,
      "outputs": []
    },
    {
      "cell_type": "code",
      "source": [
        "guess = {\n",
        "    \"t\": np.random.uniform(8, 10, LAYERS),\n",
        "    \"s\": np.random.uniform(1, 3, LAYERS),\n",
        "}"
      ],
      "metadata": {
        "id": "n4TCq9W9rU5n"
      },
      "execution_count": 444,
      "outputs": []
    },
    {
      "cell_type": "code",
      "source": [
        "example_dict = quantum_loop(np.r_[guess[\"t\"], guess[\"s\"]])\n",
        "\n"
      ],
      "metadata": {
        "id": "R1OpL8POsvjq"
      },
      "execution_count": 445,
      "outputs": []
    },
    {
      "cell_type": "code",
      "source": [
        "def plot_distribution(C):\n",
        "    C = dict(sorted(C.items(), key=lambda item: item[1], reverse=True))\n",
        "    indexes = [\"101100\", \"010011\"]  # MIS indexes\n",
        "    color_dict = {key: \"r\" if key in indexes else \"g\" for key in C}\n",
        "    plt.figure(figsize=(12, 6))\n",
        "    plt.xlabel(\"bitstrings\")\n",
        "    plt.ylabel(\"counts\")\n",
        "    plt.bar(C.keys(), C.values(), width=0.5, color=color_dict.values())\n",
        "    plt.xticks(rotation=\"vertical\")\n",
        "    plt.show()"
      ],
      "metadata": {
        "id": "_mGgsAQ3xY6K"
      },
      "execution_count": 446,
      "outputs": []
    },
    {
      "cell_type": "code",
      "source": [
        "plot_distribution(example_dict)\n"
      ],
      "metadata": {
        "colab": {
          "base_uri": "https://localhost:8080/",
          "height": 378
        },
        "id": "f0FwTq4Sz4C1",
        "outputId": "f0316ec7-7988-4c34-b7de-0ff0c7681aed"
      },
      "execution_count": 447,
      "outputs": [
        {
          "output_type": "display_data",
          "data": {
            "text/plain": [
              "<Figure size 864x432 with 1 Axes>"
            ],
            "image/png": "[encoded data removed]"
          },
          "metadata": {
            "needs_background": "light"
          }
        }
      ]
    },
    {
      "cell_type": "code",
      "source": [
        "def get_cost_colouring(bitstring, G, penalty=10):\n",
        "    z = np.array(list(bitstring), dtype=int)\n",
        "    A = np.array(G.get_adjacency().data)\n",
        "    # Add penalty and bias:\n",
        "    cost = penalty * (z.T @ np.triu(A) @ z) - np.sum(z)\n",
        "    return cost\n",
        "\n",
        "\n",
        "def get_cost(counter, G):\n",
        "    cost = sum(counter[key] * get_cost_colouring(key, G) for key in counter)\n",
        "    return cost / sum(counter.values())"
      ],
      "metadata": {
        "id": "1UBuiq851RWY"
      },
      "execution_count": 448,
      "outputs": []
    },
    {
      "cell_type": "code",
      "source": [
        ""
      ],
      "metadata": {
        "id": "mn3COdExGzJ8"
      },
      "execution_count": 448,
      "outputs": []
    },
    {
      "cell_type": "code",
      "source": [
        "get_cost(example_dict, G)"
      ],
      "metadata": {
        "colab": {
          "base_uri": "https://localhost:8080/"
        },
        "id": "JPFMrJwXG0ZM",
        "outputId": "d1973818-314c-42e9-f96d-b945d9ba52de"
      },
      "execution_count": 449,
      "outputs": [
        {
          "output_type": "execute_result",
          "data": {
            "text/plain": [
              "-2.111"
            ]
          },
          "metadata": {},
          "execution_count": 449
        }
      ]
    },
    {
      "cell_type": "code",
      "source": [
        "def func(param, *args):\n",
        "    G = args[0]\n",
        "    C = quantum_loop(param)\n",
        "    cost = get_cost(C, G)\n",
        "    return cost"
      ],
      "metadata": {
        "id": "waL6svZoPXy6"
      },
      "execution_count": 450,
      "outputs": []
    },
    {
      "cell_type": "code",
      "source": [
        "res = minimize(\n",
        "    func,\n",
        "    args=G,\n",
        "    x0=np.r_[guess[\"t\"], guess[\"s\"]],\n",
        "    method=\"Nelder-Mead\",\n",
        "    tol=1e-5,\n",
        "    options={\"maxiter\": 200},\n",
        ")"
      ],
      "metadata": {
        "id": "p4YVGi0DIHy4"
      },
      "execution_count": 451,
      "outputs": []
    },
    {
      "cell_type": "code",
      "source": [
        "count_dict = quantum_loop(res.x)\n",
        "plot_distribution(count_dict)"
      ],
      "metadata": {
        "colab": {
          "base_uri": "https://localhost:8080/",
          "height": 378
        },
        "id": "xRBOWChDI9Uq",
        "outputId": "987ba5e5-2491-46b0-fe4c-98d6fa9cb83b"
      },
      "execution_count": 452,
      "outputs": [
        {
          "output_type": "display_data",
          "data": {
            "text/plain": [
              "<Figure size 864x432 with 1 Axes>"
            ],
            "image/png": "[encoded data removed]"
          },
          "metadata": {
            "needs_background": "light"
          }
        }
      ]
    },
    {
      "cell_type": "code",
      "source": [
        "import operator\n",
        "\n",
        "print (\"count_dict:\",count_dict)\n",
        "sorted_x = sorted(count_dict.items(), key=operator.itemgetter(1),reverse=True)\n"
      ],
      "metadata": {
        "colab": {
          "base_uri": "https://localhost:8080/"
        },
        "id": "SIs0-e76dnnd",
        "outputId": "63463baa-4595-40c3-dcf6-c45d72cb3a7d"
      },
      "execution_count": 453,
      "outputs": [
        {
          "output_type": "stream",
          "name": "stdout",
          "text": [
            "count_dict: Counter({'001111': 435, '001100': 115, '000011': 54, '000111': 54, '001110': 44, '001101': 42, '101100': 41, '000000': 39, '001011': 39, '010011': 37, '100000': 34, '000101': 10, '001010': 10, '000100': 7, '001000': 6, '100100': 5, '000001': 4, '010000': 4, '010001': 3, '000010': 2, '000110': 2, '001001': 2, '010010': 2, '011111': 2, '010111': 1, '011011': 1, '100010': 1, '100111': 1, '101010': 1, '101101': 1, '101111': 1})\n"
          ]
        }
      ]
    },
    {
      "cell_type": "code",
      "source": [
        ""
      ],
      "metadata": {
        "id": "9cjulr6JRW_w"
      },
      "execution_count": 453,
      "outputs": []
    },
    {
      "cell_type": "code",
      "source": [
        "def convert_opt(opt_str):\n",
        "  row = [int(num_i) for num_i in opt_str]\n",
        "  return row\n",
        "\n",
        "_idx = []\n",
        "A = np.array(G.get_adjacency().data)\n",
        "print (A)\n",
        "for key in count_dict:\n",
        "  #print (key)\n",
        "  opt_1= convert_opt(key)\n",
        "  #print (opt_1)\n",
        "\n",
        "  ans = np.where((A == opt_1).all(axis=1))[0]\n",
        "  if len(ans)==1:\n",
        "    #print (ans)\n",
        "    _idx.append(ans[0])\n",
        "\n",
        "_ans_arr = np.zeros(np.shape(A)[0])\n",
        "_ans_arr[_idx] = 1\n",
        "print (\"The optimum DCS is:\",_ans_arr)"
      ],
      "metadata": {
        "colab": {
          "base_uri": "https://localhost:8080/"
        },
        "id": "5k0yz18MqOna",
        "outputId": "9bd7a529-b946-4146-d0c5-3bd5304dc3f6"
      },
      "execution_count": 454,
      "outputs": [
        {
          "output_type": "stream",
          "name": "stdout",
          "text": [
            "[[0 1 0 0 1 1]\n",
            " [1 0 1 1 0 0]\n",
            " [0 1 0 0 0 0]\n",
            " [0 1 0 0 0 0]\n",
            " [1 0 0 0 0 0]\n",
            " [1 0 0 0 0 0]]\n",
            "The optimum DCS is: [1. 1. 0. 0. 0. 0.]\n"
          ]
        }
      ]
    },
    {
      "cell_type": "code",
      "source": [
        ""
      ],
      "metadata": {
        "id": "mopsKK1TiwmK"
      },
      "execution_count": null,
      "outputs": []
    },
    {
      "cell_type": "code",
      "source": [
        ""
      ],
      "metadata": {
        "id": "pl57d0IcRO2j"
      },
      "execution_count": null,
      "outputs": []
    }
  ]
}