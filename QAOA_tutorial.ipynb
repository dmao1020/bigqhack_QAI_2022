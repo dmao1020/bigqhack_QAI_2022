{
  "nbformat": 4,
  "nbformat_minor": 0,
  "metadata": {
    "colab": {
      "name": "QAOA_tutorial.ipynb",
      "provenance": [],
      "collapsed_sections": [],
      "authorship_tag": "ABX9TyMH0drmG6DKaMdCrW8Yplao",
      "include_colab_link": true
    },
    "kernelspec": {
      "name": "python3",
      "display_name": "Python 3"
    },
    "language_info": {
      "name": "python"
    }
  },
  "cells": [
    {
      "cell_type": "markdown",
      "metadata": {
        "id": "view-in-github",
        "colab_type": "text"
      },
      "source": [
        "<a href=\"https://colab.research.google.com/github/dmao1020/bigqhack_QAI_2022/blob/main/QAOA_tutorial.ipynb\" target=\"_parent\"><img src=\"https://colab.research.google.com/assets/colab-badge.svg\" alt=\"Open In Colab\"/></a>"
      ]
    },
    {
      "cell_type": "code",
      "execution_count": 469,
      "metadata": {
        "id": "zujYWfwtqeua",
        "colab": {
          "base_uri": "https://localhost:8080/"
        },
        "outputId": "7451a955-2a1f-44e4-ed0f-632714439e8a"
      },
      "outputs": [
        {
          "output_type": "stream",
          "name": "stdout",
          "text": [
            "Looking in indexes: https://pypi.org/simple, https://us-python.pkg.dev/colab-wheels/public/simple/\n",
            "Requirement already satisfied: pulser in /usr/local/lib/python3.7/dist-packages (0.6.0)\n",
            "Requirement already satisfied: pulser-core==0.6.0 in /usr/local/lib/python3.7/dist-packages (from pulser) (0.6.0)\n",
            "Requirement already satisfied: pulser-simulation==0.6.0 in /usr/local/lib/python3.7/dist-packages (from pulser) (0.6.0)\n",
            "Requirement already satisfied: matplotlib in /usr/local/lib/python3.7/dist-packages (from pulser-core==0.6.0->pulser) (3.2.2)\n",
            "Requirement already satisfied: typing-extensions in /usr/local/lib/python3.7/dist-packages (from pulser-core==0.6.0->pulser) (4.1.1)\n",
            "Requirement already satisfied: backports.cached-property in /usr/local/lib/python3.7/dist-packages (from pulser-core==0.6.0->pulser) (1.0.2)\n",
            "Requirement already satisfied: numpy>=1.20 in /usr/local/lib/python3.7/dist-packages (from pulser-core==0.6.0->pulser) (1.21.6)\n",
            "Requirement already satisfied: scipy in /usr/local/lib/python3.7/dist-packages (from pulser-core==0.6.0->pulser) (1.4.1)\n",
            "Requirement already satisfied: qutip>=4.6.3 in /usr/local/lib/python3.7/dist-packages (from pulser-simulation==0.6.0->pulser) (4.7.0)\n",
            "Requirement already satisfied: packaging in /usr/local/lib/python3.7/dist-packages (from qutip>=4.6.3->pulser-simulation==0.6.0->pulser) (21.3)\n",
            "Requirement already satisfied: kiwisolver>=1.0.1 in /usr/local/lib/python3.7/dist-packages (from matplotlib->pulser-core==0.6.0->pulser) (1.4.3)\n",
            "Requirement already satisfied: cycler>=0.10 in /usr/local/lib/python3.7/dist-packages (from matplotlib->pulser-core==0.6.0->pulser) (0.11.0)\n",
            "Requirement already satisfied: pyparsing!=2.0.4,!=2.1.2,!=2.1.6,>=2.0.1 in /usr/local/lib/python3.7/dist-packages (from matplotlib->pulser-core==0.6.0->pulser) (3.0.9)\n",
            "Requirement already satisfied: python-dateutil>=2.1 in /usr/local/lib/python3.7/dist-packages (from matplotlib->pulser-core==0.6.0->pulser) (2.8.2)\n",
            "Requirement already satisfied: six>=1.5 in /usr/local/lib/python3.7/dist-packages (from python-dateutil>=2.1->matplotlib->pulser-core==0.6.0->pulser) (1.15.0)\n"
          ]
        }
      ],
      "source": [
        "pip install pulser"
      ]
    },
    {
      "cell_type": "code",
      "source": [
        "pip install igraph"
      ],
      "metadata": {
        "id": "CJYOG5y3qg8j",
        "colab": {
          "base_uri": "https://localhost:8080/"
        },
        "outputId": "99b71515-cce4-4491-b0e3-c9278ccfc04d"
      },
      "execution_count": 470,
      "outputs": [
        {
          "output_type": "stream",
          "name": "stdout",
          "text": [
            "Looking in indexes: https://pypi.org/simple, https://us-python.pkg.dev/colab-wheels/public/simple/\n",
            "Requirement already satisfied: igraph in /usr/local/lib/python3.7/dist-packages (0.9.11)\n",
            "Requirement already satisfied: texttable>=1.6.2 in /usr/local/lib/python3.7/dist-packages (from igraph) (1.6.4)\n"
          ]
        }
      ]
    },
    {
      "cell_type": "code",
      "source": [
        "import numpy as np\n",
        "import igraph\n",
        "from itertools import combinations\n",
        "\n",
        "import matplotlib.pyplot as plt\n",
        "\n",
        "from pulser import Pulse, Sequence, Register\n",
        "from pulser_simulation import Simulation\n",
        "from pulser.devices import Chadoq2\n",
        "\n",
        "from scipy.optimize import minimize"
      ],
      "metadata": {
        "id": "jh42cTo1qjgQ"
      },
      "execution_count": 471,
      "outputs": []
    },
    {
      "cell_type": "code",
      "source": [
        "def pos_to_graph(pos):\n",
        "    rb = Chadoq2.rydberg_blockade_radius(1.0)\n",
        "    g = igraph.Graph()\n",
        "    N = len(pos)\n",
        "    edges = [\n",
        "        [m, n]\n",
        "        for m, n in combinations(range(N), r=2)\n",
        "        if np.linalg.norm(pos[m] - pos[n]) < rb\n",
        "    ]\n",
        "    g.add_vertices(N)\n",
        "    g.add_edges(edges)\n",
        "    return g"
      ],
      "metadata": {
        "id": "YUg-GiYVqn0g"
      },
      "execution_count": 472,
      "outputs": []
    },
    {
      "cell_type": "code",
      "source": [
        ""
      ],
      "metadata": {
        "id": "hkO3DqRm0Sgh"
      },
      "execution_count": 472,
      "outputs": []
    },
    {
      "cell_type": "code",
      "source": [
        "\n",
        "pos =np.array([[0.0, 0.0], \n",
        "               [0.0, -10.0],\n",
        "               [-8, -15], \n",
        "               [8, -15], \n",
        "               [8, 6], \n",
        "               [-8, 6]])\n",
        "#([[0,1],[0,2],[0,3],[1,4],[1,5]])\n",
        "#\n",
        "#pos = np.array([[0.0, 0.0], [-4, -7], [4, -7], [8, 6], [-8, 6]])\n",
        "\n",
        "G = pos_to_graph(pos)\n",
        "qubits = dict(enumerate(pos))\n",
        "\n",
        "reg = Register(qubits)\n",
        "reg.draw(\n",
        "    blockade_radius=Chadoq2.rydberg_blockade_radius(1.0),\n",
        "    draw_graph=True,\n",
        "    draw_half_radius=True,\n",
        ")"
      ],
      "metadata": {
        "colab": {
          "base_uri": "https://localhost:8080/",
          "height": 347
        },
        "id": "qNK8BKVOrG-X",
        "outputId": "597e88d9-1996-4da9-a05b-50ca0038c722"
      },
      "execution_count": 473,
      "outputs": [
        {
          "output_type": "display_data",
          "data": {
            "text/plain": [
              "<Figure size 288x378 with 1 Axes>"
            ],
            "image/png": "[encoded data removed]"
          },
          "metadata": {
            "needs_background": "light"
          }
        }
      ]
    },
    {
      "cell_type": "code",
      "source": [
        "LAYERS = 5\n",
        "\n",
        "# Parametrized sequence\n",
        "seq = Sequence(reg, Chadoq2)\n",
        "seq.declare_channel(\"ch0\", \"rydberg_global\")\n",
        "\n",
        "t_list = seq.declare_variable(\"t_list\", size=LAYERS)\n",
        "s_list = seq.declare_variable(\"s_list\", size=LAYERS)\n",
        "\n",
        "if LAYERS == 1:\n",
        "    t_list = [t_list]\n",
        "    s_list = [s_list]\n",
        "\n",
        "for t, s in zip(t_list, s_list):\n",
        "    pulse_1 = Pulse.ConstantPulse(1000 * t, 1.0, 0.0, 0)\n",
        "    pulse_2 = Pulse.ConstantPulse(1000 * s, 1.0, 1.0, 0)\n",
        "\n",
        "    seq.add(pulse_1, \"ch0\")\n",
        "    seq.add(pulse_2, \"ch0\")\n",
        "\n",
        "seq.measure(\"ground-rydberg\")"
      ],
      "metadata": {
        "id": "SkMpsVE-_X08"
      },
      "execution_count": 474,
      "outputs": []
    },
    {
      "cell_type": "code",
      "source": [
        "def quantum_loop(parameters):\n",
        "    params = np.array(parameters)\n",
        "    t_params, s_params = np.reshape(params.astype(int), (2, LAYERS))\n",
        "    assigned_seq = seq.build(t_list=t_params, s_list=s_params)\n",
        "    simul = Simulation(assigned_seq, sampling_rate=0.01)\n",
        "    results = simul.run()\n",
        "    count_dict = results.sample_final_state()  # sample from the state vector\n",
        "    return count_dict"
      ],
      "metadata": {
        "id": "VQ0xaQOCTHI0"
      },
      "execution_count": 475,
      "outputs": []
    },
    {
      "cell_type": "code",
      "source": [
        "guess = {\n",
        "    \"t\": np.random.uniform(8, 10, LAYERS),\n",
        "    \"s\": np.random.uniform(1, 3, LAYERS),\n",
        "}"
      ],
      "metadata": {
        "id": "n4TCq9W9rU5n"
      },
      "execution_count": 476,
      "outputs": []
    },
    {
      "cell_type": "code",
      "source": [
        "example_dict = quantum_loop(np.r_[guess[\"t\"], guess[\"s\"]])\n",
        "\n"
      ],
      "metadata": {
        "id": "R1OpL8POsvjq"
      },
      "execution_count": 477,
      "outputs": []
    },
    {
      "cell_type": "code",
      "source": [
        "def plot_distribution(C):\n",
        "    C = dict(sorted(C.items(), key=lambda item: item[1], reverse=True))\n",
        "    indexes = [\"101100\", \"010011\"]  # MIS indexes\n",
        "    color_dict = {key: \"r\" if key in indexes else \"g\" for key in C}\n",
        "    plt.figure(figsize=(12, 6))\n",
        "    plt.xlabel(\"bitstrings\")\n",
        "    plt.ylabel(\"counts\")\n",
        "    plt.bar(C.keys(), C.values(), width=0.5, color=color_dict.values())\n",
        "    plt.xticks(rotation=\"vertical\")\n",
        "    plt.show()"
      ],
      "metadata": {
        "id": "_mGgsAQ3xY6K"
      },
      "execution_count": 478,
      "outputs": []
    },
    {
      "cell_type": "code",
      "source": [
        "plot_distribution(example_dict)\n"
      ],
      "metadata": {
        "colab": {
          "base_uri": "https://localhost:8080/",
          "height": 377
        },
        "id": "f0FwTq4Sz4C1",
        "outputId": "f40dc3f7-12fd-45cf-ab05-04c4c4df668e"
      },
      "execution_count": 479,
      "outputs": [
        {
          "output_type": "display_data",
          "data": {
            "text/plain": [
              "<Figure size 864x432 with 1 Axes>"
            ],
            "image/png": "[encoded data removed]"
          },
          "metadata": {
            "needs_background": "light"
          }
        }
      ]
    },
    {
      "cell_type": "code",
      "source": [
        "def get_cost_colouring(bitstring, G, penalty=15):\n",
        "    z = np.array(list(bitstring), dtype=int)\n",
        "    A = np.array(G.get_adjacency().data)\n",
        "    # Add penalty and bias:\n",
        "    cost = penalty * (z.T @ np.triu(A) @ z) - np.sum(z)\n",
        "    return cost\n",
        "\n",
        "\n",
        "def get_cost(counter, G):\n",
        "    cost = sum(counter[key] * get_cost_colouring(key, G) for key in counter)\n",
        "    return cost / sum(counter.values())"
      ],
      "metadata": {
        "id": "1UBuiq851RWY"
      },
      "execution_count": 480,
      "outputs": []
    },
    {
      "cell_type": "code",
      "source": [
        ""
      ],
      "metadata": {
        "id": "mn3COdExGzJ8"
      },
      "execution_count": 480,
      "outputs": []
    },
    {
      "cell_type": "code",
      "source": [
        "get_cost(example_dict, G)"
      ],
      "metadata": {
        "colab": {
          "base_uri": "https://localhost:8080/"
        },
        "id": "JPFMrJwXG0ZM",
        "outputId": "53bc0ef5-e5ff-4d86-dab7-be39db0d3b9d"
      },
      "execution_count": 481,
      "outputs": [
        {
          "output_type": "execute_result",
          "data": {
            "text/plain": [
              "-1.336"
            ]
          },
          "metadata": {},
          "execution_count": 481
        }
      ]
    },
    {
      "cell_type": "code",
      "source": [
        "def func(param, *args):\n",
        "    G = args[0]\n",
        "    C = quantum_loop(param)\n",
        "    cost = get_cost(C, G)\n",
        "    return cost"
      ],
      "metadata": {
        "id": "waL6svZoPXy6"
      },
      "execution_count": 482,
      "outputs": []
    },
    {
      "cell_type": "code",
      "source": [
        "res = minimize(\n",
        "    func,\n",
        "    args=G,\n",
        "    x0=np.r_[guess[\"t\"], guess[\"s\"]],\n",
        "    method=\"Nelder-Mead\",\n",
        "    tol=1e-5,\n",
        "    options={\"maxiter\": 100},\n",
        ")"
      ],
      "metadata": {
        "id": "p4YVGi0DIHy4"
      },
      "execution_count": 483,
      "outputs": []
    },
    {
      "cell_type": "code",
      "source": [
        "count_dict = quantum_loop(res.x)\n",
        "plot_distribution(count_dict)"
      ],
      "metadata": {
        "colab": {
          "base_uri": "https://localhost:8080/",
          "height": 380
        },
        "id": "xRBOWChDI9Uq",
        "outputId": "d46c1e40-4ff2-4ca4-ebd4-cc820e44f8e6"
      },
      "execution_count": 484,
      "outputs": [
        {
          "output_type": "display_data",
          "data": {
            "text/plain": [
              "<Figure size 864x432 with 1 Axes>"
            ],
            "image/png": "[encoded data removed]"
          },
          "metadata": {
            "needs_background": "light"
          }
        }
      ]
    },
    {
      "cell_type": "code",
      "source": [
        "import operator\n",
        "\n",
        "print (\"count_dict:\",count_dict)\n",
        "sorted_x = sorted(count_dict.items(), key=operator.itemgetter(1),reverse=True)\n"
      ],
      "metadata": {
        "colab": {
          "base_uri": "https://localhost:8080/"
        },
        "id": "SIs0-e76dnnd",
        "outputId": "186956e6-3fe8-4f1a-e251-1310740becfb"
      },
      "execution_count": 485,
      "outputs": [
        {
          "output_type": "stream",
          "name": "stdout",
          "text": [
            "count_dict: Counter({'001111': 134, '101100': 120, '010011': 94, '010010': 65, '010001': 61, '010000': 58, '000011': 49, '100000': 48, '000101': 40, '000110': 39, '001010': 35, '001110': 34, '001101': 31, '001001': 29, '000111': 28, '001011': 24, '101000': 19, '001100': 18, '100100': 16, '000000': 10, '001000': 10, '000010': 8, '000100': 8, '000001': 4, '100101': 3, '010101': 2, '101010': 2, '010100': 1, '010110': 1, '011000': 1, '011010': 1, '100110': 1, '100111': 1, '101001': 1, '101011': 1, '110000': 1, '110001': 1, '110011': 1})\n"
          ]
        }
      ]
    },
    {
      "cell_type": "code",
      "source": [
        ""
      ],
      "metadata": {
        "id": "9cjulr6JRW_w"
      },
      "execution_count": 485,
      "outputs": []
    },
    {
      "cell_type": "code",
      "source": [
        "def convert_opt(opt_str):\n",
        "  row = [int(num_i) for num_i in opt_str]\n",
        "  return row\n",
        "\n",
        "_idx = []\n",
        "A = np.array(G.get_adjacency().data)\n",
        "print (A)\n",
        "for key in count_dict:\n",
        "  #print (key)\n",
        "  opt_1= convert_opt(key)\n",
        "  #print (opt_1)\n",
        "\n",
        "  ans = np.where((A == opt_1).all(axis=1))[0]\n",
        "  if len(ans)==1:\n",
        "    #print (ans)\n",
        "    _idx.append(ans[0])\n",
        "\n",
        "_ans_arr = np.zeros(np.shape(A)[0])\n",
        "_ans_arr[_idx] = 1\n",
        "print (\"The optimum DCS is:\",_ans_arr)"
      ],
      "metadata": {
        "colab": {
          "base_uri": "https://localhost:8080/"
        },
        "id": "5k0yz18MqOna",
        "outputId": "061fa7c5-2ab4-4777-f2ae-1a439c10ebf0"
      },
      "execution_count": 486,
      "outputs": [
        {
          "output_type": "stream",
          "name": "stdout",
          "text": [
            "[[0 1 0 0 1 1]\n",
            " [1 0 1 1 0 0]\n",
            " [0 1 0 0 0 0]\n",
            " [0 1 0 0 0 0]\n",
            " [1 0 0 0 0 0]\n",
            " [1 0 0 0 0 0]]\n",
            "The optimum DCS is: [1. 1. 0. 0. 0. 0.]\n"
          ]
        }
      ]
    },
    {
      "cell_type": "code",
      "source": [
        ""
      ],
      "metadata": {
        "id": "mopsKK1TiwmK"
      },
      "execution_count": 486,
      "outputs": []
    },
    {
      "cell_type": "code",
      "source": [
        ""
      ],
      "metadata": {
        "id": "pl57d0IcRO2j"
      },
      "execution_count": 486,
      "outputs": []
    }
  ]
}