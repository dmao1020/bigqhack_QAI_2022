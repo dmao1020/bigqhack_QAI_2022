{
 "cells": [
  {
   "cell_type": "code",
   "execution_count": 1,
   "id": "b3297043",
   "metadata": {},
   "outputs": [],
   "source": [
    "#pip install scikit-optimize"
   ]
  },
  {
   "cell_type": "code",
   "execution_count": 2,
   "id": "124b6eda",
   "metadata": {},
   "outputs": [],
   "source": [
    "#pip install bayesian-optimization"
   ]
  },
  {
   "cell_type": "code",
   "execution_count": 48,
   "id": "302df55a",
   "metadata": {},
   "outputs": [],
   "source": [
    "import numpy as np\n",
    "import igraph\n",
    "from itertools import combinations\n",
    "\n",
    "import matplotlib.pyplot as plt\n",
    "\n",
    "from pulser import Pulse, Sequence, Register\n",
    "from pulser_simulation import Simulation\n",
    "from pulser.devices import Chadoq2\n",
    "\n",
    "from scipy.optimize import minimize\n",
    "\n",
    "import numpy as np\n",
    "import csv\n",
    "import itertools\n",
    "import pandas as pd\n",
    "from itertools import combinations,combinations_with_replacement,permutations,product\n",
    "from datetime import datetime\n",
    "import matplotlib.pyplot as plt\n",
    "from numpy import argmax\n",
    "import os\n",
    "from mpl_toolkits import mplot3d\n",
    "from matplotlib import cm\n",
    "\n",
    "\n",
    "from sklearn.model_selection import train_test_split\n",
    "from sklearn import preprocessing\n",
    "from sklearn.svm import SVC\n",
    "from sklearn.cluster import SpectralClustering\n",
    "from sklearn.metrics import normalized_mutual_info_score\n",
    "from sklearn.metrics import f1_score\n",
    "from sklearn.metrics import log_loss\n",
    "from sklearn.metrics import precision_score\n",
    "from sklearn.metrics import recall_score\n",
    "from sklearn.gaussian_process import GaussianProcessRegressor\n",
    "from sklearn.gaussian_process.kernels import RBF,WhiteKernel,RationalQuadratic,DotProduct,Matern\n",
    "from sklearn.metrics import r2_score\n",
    "\n",
    "from scipy.optimize import minimize\n",
    "from scipy.stats import norm\n",
    "\n",
    "\n",
    "from bayes_opt import UtilityFunction\n",
    "from skopt.learning import ExtraTreesRegressor\n",
    "from skopt import Optimizer\n",
    "from skopt import gp_minimize\n",
    "from skopt.plots import plot_convergence,plot_gaussian_process\n",
    "from bayes_opt import BayesianOptimization"
   ]
  },
  {
   "cell_type": "code",
   "execution_count": 60,
   "id": "1ea5ff2b",
   "metadata": {},
   "outputs": [],
   "source": [
    "def pos_to_graph(pos):\n",
    "    rb = Chadoq2.rydberg_blockade_radius(1.0)\n",
    "    g = igraph.Graph()\n",
    "    N = len(pos)\n",
    "    edges = [\n",
    "        [m, n]\n",
    "        for m, n in combinations(range(N), r=2)\n",
    "        if np.linalg.norm(pos[m] - pos[n]) < rb\n",
    "    ]\n",
    "    g.add_vertices(N)\n",
    "    g.add_edges(edges)\n",
    "    return g\n",
    "def quantum_loop(parameters):\n",
    "    params = np.array(parameters)\n",
    "    #print (\"params:\",params)\n",
    "    t_params, s_params = np.reshape(params.astype(int), (2, LAYERS))\n",
    "    assigned_seq = seq.build(t_list=t_params, s_list=s_params)\n",
    "    simul = Simulation(assigned_seq, sampling_rate=0.01)\n",
    "    results = simul.run()\n",
    "    count_dict = results.sample_final_state()  # sample from the state vector\n",
    "    return count_dict\n",
    "def plot_distribution(C):\n",
    "    C = dict(sorted(C.items(), key=lambda item: item[1], reverse=True))\n",
    "    indexes = [\"101100\", \"010011\"]#[\"01011\", \"00111\"] #  # MIS indexes\n",
    "    color_dict = {key: \"r\" if key in indexes else \"g\" for key in C}\n",
    "    plt.figure(figsize=(12, 6))\n",
    "    plt.xlabel(\"bitstrings\")\n",
    "    plt.ylabel(\"counts\")\n",
    "    plt.bar(C.keys(), C.values(), width=0.5, color=color_dict.values())\n",
    "    plt.xticks(rotation=\"vertical\")\n",
    "    plt.show()\n",
    "def get_cost_colouring(bitstring, G, penalty=10):\n",
    "    z = np.array(list(bitstring), dtype=int)\n",
    "    A = np.array(G.get_adjacency().data)\n",
    "    # Add penalty and bias:\n",
    "    cost = penalty * (z.T @ np.triu(A) @ z) - np.sum(z)\n",
    "    return cost\n",
    "\n",
    "\n",
    "def get_cost(counter, G,penalty_val):\n",
    "    cost = sum(counter[key] * get_cost_colouring(key, G, penalty = penalty_val) for key in counter)\n",
    "    return cost / sum(counter.values())\n",
    "\n",
    "def get_w_cost_colouring(bitstring, G, penalty=15):\n",
    "    z = np.array(list(bitstring), dtype=int)\n",
    "    A = np.array(G.get_adjacency().data)\n",
    "    D= np.array(G.degree())\n",
    "    #print (\"degree\",D)\n",
    "    # Add penalty and bias:\n",
    "    cost = penalty * (z.T @ np.triu(A) @ z) -z@D# np.sum(z)\n",
    "    print (z@D)\n",
    "    #print (cost)\n",
    "    return cost\n",
    "\n",
    "\n",
    "def get_w_cost(counter, G,penalty_val):\n",
    "    cost = sum(counter[key] * get_w_cost_colouring(key, G) for key in counter)\n",
    "    return cost / sum(counter.values())  # Divide by total samples\n",
    "\n",
    "\n",
    "def func(param, *args):\n",
    "    G = args[0]\n",
    "    penalty_val = args[1]\n",
    "    C = quantum_loop(param)\n",
    "    cost = get_cost(C, G,penalty_val)\n",
    "    return cost\n",
    "def convert_opt(opt_str):\n",
    "    row = [int(num_i) for num_i in opt_str]\n",
    "    return row\n",
    "def BO(N,pnum,G, penalty_val):\n",
    "    pbounds=[]\n",
    "    for i in range(pnum):\n",
    "        pbounds.append((8, 10))\n",
    "    for i in range(pnum):\n",
    "        pbounds.append((1, 3))\n",
    "    res = gp_minimize(func(G, penalty_val),pbounds,random_state=1234,acq_func=\"LCB\",n_calls=N,n_random_starts=50,noise=0.1**2)\n",
    "    \"x^*=%.4f, f(x^*)=%.4f\" % (res.x[0], res.fun)\n",
    "    plot = plot_convergence(res)\n",
    "    FIG = plot.get_figure()\n",
    "    FIG.savefig('Convergence_4_pro.png')\n",
    "    return(res.x)"
   ]
  },
  {
   "cell_type": "code",
   "execution_count": 61,
   "id": "078734bc",
   "metadata": {},
   "outputs": [
    {
     "data": {
      "image/png": "[encoded data removed]",
      "text/plain": [
       "<Figure size 288x378 with 1 Axes>"
      ]
     },
     "metadata": {
      "needs_background": "light"
     },
     "output_type": "display_data"
    }
   ],
   "source": [
    "\n",
    "pos =np.array([[0.0, 0.0], \n",
    "               [0.0, -10.0],\n",
    "               [-8, -15], \n",
    "               [8, -15], \n",
    "               [8, 6], \n",
    "               [-8, 6]])\n",
    "#([[0,1],[0,2],[0,3],[1,4],[1,5]])\n",
    "#\n",
    "#pos = np.array([[0.0, 0.0], [-4, -7], [4, -7], [8, 6], [-8, 6]])\n",
    "\n",
    "rb_r = 1.0\n",
    "LAYERS = 5\n",
    "# maximum number of iteration for optimization\n",
    "opt_maxiter = 100\n",
    "penalty_val = 10\n",
    "G = pos_to_graph(pos)\n",
    "qubits = dict(enumerate(pos))\n",
    "\n",
    "reg = Register(qubits)\n",
    "reg.draw(\n",
    "    blockade_radius=Chadoq2.rydberg_blockade_radius(rb_r),\n",
    "    draw_graph=True,\n",
    "    draw_half_radius=True,\n",
    ")"
   ]
  },
  {
   "cell_type": "code",
   "execution_count": 62,
   "id": "a79443fc",
   "metadata": {},
   "outputs": [
    {
     "name": "stdout",
     "output_type": "stream",
     "text": [
      "s_list: s_list\n",
      "t: t_list[0]\n",
      "z: s_list[0]\n",
      "t: t_list[1]\n",
      "z: s_list[1]\n",
      "t: t_list[2]\n",
      "z: s_list[2]\n",
      "t: t_list[3]\n",
      "z: s_list[3]\n",
      "t: t_list[4]\n",
      "z: s_list[4]\n"
     ]
    }
   ],
   "source": [
    "# Parametrized sequence\n",
    "seq = Sequence(reg, Chadoq2)\n",
    "seq.declare_channel(\"ch0\", \"rydberg_global\")\n",
    "\n",
    "t_list = seq.declare_variable(\"t_list\", size=LAYERS)\n",
    "s_list = seq.declare_variable(\"s_list\", size=LAYERS)\n",
    "print (\"s_list:\",s_list)\n",
    "if LAYERS == 1:\n",
    "    t_list = [t_list]\n",
    "    s_list = [s_list]\n",
    "\n",
    "for t, s in zip(t_list, s_list):\n",
    "    print (\"t:\",t)\n",
    "    print (\"z:\",s)\n",
    "    pulse_1 = Pulse.ConstantPulse(1000 * t, 1.0, 0.0, 0)\n",
    "    pulse_2 = Pulse.ConstantPulse(1000 * s, 1.0, 1.0, 0)\n",
    "\n",
    "    seq.add(pulse_1, \"ch0\")\n",
    "    seq.add(pulse_2, \"ch0\")\n",
    "\n",
    "seq.measure(\"ground-rydberg\")\n"
   ]
  },
  {
   "cell_type": "code",
   "execution_count": 63,
   "id": "d332cbca",
   "metadata": {},
   "outputs": [],
   "source": [
    "guess = {\n",
    "    \"t\": np.random.uniform(5, 10, LAYERS),\n",
    "    \"s\": np.random.uniform(1, 5, LAYERS),\n",
    "}"
   ]
  },
  {
   "cell_type": "code",
   "execution_count": 64,
   "id": "af2912aa",
   "metadata": {},
   "outputs": [
    {
     "data": {
      "image/png": "[encoded data removed]",
      "text/plain": [
       "<Figure size 864x432 with 1 Axes>"
      ]
     },
     "metadata": {
      "needs_background": "light"
     },
     "output_type": "display_data"
    }
   ],
   "source": [
    "example_dict = quantum_loop(np.r_[guess[\"t\"], guess[\"s\"]])\n",
    "plot_distribution(example_dict)\n"
   ]
  },
  {
   "cell_type": "code",
   "execution_count": 65,
   "id": "1faf29e2",
   "metadata": {},
   "outputs": [
    {
     "name": "stdout",
     "output_type": "stream",
     "text": [
      "0\n",
      "1\n",
      "1\n",
      "2\n",
      "1\n",
      "2\n",
      "2\n",
      "3\n",
      "1\n",
      "2\n",
      "2\n",
      "3\n",
      "2\n",
      "3\n",
      "3\n",
      "4\n",
      "3\n",
      "4\n",
      "4\n",
      "5\n",
      "4\n",
      "5\n",
      "4\n",
      "5\n",
      "6\n",
      "3\n",
      "4\n",
      "4\n",
      "4\n",
      "5\n",
      "6\n",
      "4\n",
      "5\n",
      "6\n",
      "6\n",
      "7\n"
     ]
    },
    {
     "data": {
      "text/plain": [
       "-2.026"
      ]
     },
     "execution_count": 65,
     "metadata": {},
     "output_type": "execute_result"
    }
   ],
   "source": [
    "get_w_cost(example_dict, G,penalty_val)"
   ]
  },
  {
   "cell_type": "code",
   "execution_count": null,
   "id": "1fdbd4c2",
   "metadata": {},
   "outputs": [],
   "source": [
    "res = minimize(\n",
    "    func,\n",
    "    args=(G, penalty_val),\n",
    "    x0=np.r_[guess[\"t\"], guess[\"s\"]],\n",
    "    method=\"Nelder-Mead\",#\"Nelder-Mead\",#\"L-BFGS-B\", #\"Powell\"\n",
    "    tol=1e-5,\n",
    "    options={\"maxiter\": opt_maxiter},\n",
    ")"
   ]
  },
  {
   "cell_type": "code",
   "execution_count": null,
   "id": "f93c6deb",
   "metadata": {},
   "outputs": [],
   "source": [
    "count_dict = quantum_loop(res.x)\n",
    "plot_distribution(count_dict)"
   ]
  },
  {
   "cell_type": "code",
   "execution_count": 46,
   "id": "f8607821",
   "metadata": {},
   "outputs": [
    {
     "ename": "IndexError",
     "evalue": "tuple index out of range",
     "output_type": "error",
     "traceback": [
      "\u001b[0;31m---------------------------------------------------------------------------\u001b[0m",
      "\u001b[0;31mIndexError\u001b[0m                                Traceback (most recent call last)",
      "\u001b[0;32m/var/folders/vs/1xlk3mtx3snc_3pkpydm2wh80000gn/T/ipykernel_75587/3613119946.py\u001b[0m in \u001b[0;36m<module>\u001b[0;34m\u001b[0m\n\u001b[0;32m----> 1\u001b[0;31m \u001b[0mbo_res\u001b[0m \u001b[0;34m=\u001b[0m \u001b[0mBO\u001b[0m\u001b[0;34m(\u001b[0m\u001b[0;36m100\u001b[0m\u001b[0;34m,\u001b[0m\u001b[0mLAYERS\u001b[0m\u001b[0;34m,\u001b[0m\u001b[0mG\u001b[0m\u001b[0;34m,\u001b[0m\u001b[0mpenalty_val\u001b[0m\u001b[0;34m)\u001b[0m\u001b[0;34m\u001b[0m\u001b[0m\n\u001b[0m",
      "\u001b[0;32m/var/folders/vs/1xlk3mtx3snc_3pkpydm2wh80000gn/T/ipykernel_75587/2015737195.py\u001b[0m in \u001b[0;36mBO\u001b[0;34m(N, pnum, G, penalty_val)\u001b[0m\n\u001b[1;32m     57\u001b[0m     \u001b[0;32mfor\u001b[0m \u001b[0mi\u001b[0m \u001b[0;32min\u001b[0m \u001b[0mrange\u001b[0m\u001b[0;34m(\u001b[0m\u001b[0mpnum\u001b[0m\u001b[0;34m)\u001b[0m\u001b[0;34m:\u001b[0m\u001b[0;34m\u001b[0m\u001b[0m\n\u001b[1;32m     58\u001b[0m         \u001b[0mpbounds\u001b[0m\u001b[0;34m.\u001b[0m\u001b[0mappend\u001b[0m\u001b[0;34m(\u001b[0m\u001b[0;34m(\u001b[0m\u001b[0;36m1\u001b[0m\u001b[0;34m,\u001b[0m \u001b[0;36m3\u001b[0m\u001b[0;34m)\u001b[0m\u001b[0;34m)\u001b[0m\u001b[0;34m\u001b[0m\u001b[0m\n\u001b[0;32m---> 59\u001b[0;31m     \u001b[0mres\u001b[0m \u001b[0;34m=\u001b[0m \u001b[0mgp_minimize\u001b[0m\u001b[0;34m(\u001b[0m\u001b[0mfunc\u001b[0m\u001b[0;34m(\u001b[0m\u001b[0mG\u001b[0m\u001b[0;34m,\u001b[0m \u001b[0mpenalty_val\u001b[0m\u001b[0;34m)\u001b[0m\u001b[0;34m,\u001b[0m\u001b[0mpbounds\u001b[0m\u001b[0;34m,\u001b[0m\u001b[0mrandom_state\u001b[0m\u001b[0;34m=\u001b[0m\u001b[0;36m1234\u001b[0m\u001b[0;34m,\u001b[0m\u001b[0macq_func\u001b[0m\u001b[0;34m=\u001b[0m\u001b[0;34m\"LCB\"\u001b[0m\u001b[0;34m,\u001b[0m\u001b[0mn_calls\u001b[0m\u001b[0;34m=\u001b[0m\u001b[0mN\u001b[0m\u001b[0;34m,\u001b[0m\u001b[0mn_random_starts\u001b[0m\u001b[0;34m=\u001b[0m\u001b[0;36m50\u001b[0m\u001b[0;34m,\u001b[0m\u001b[0mnoise\u001b[0m\u001b[0;34m=\u001b[0m\u001b[0;36m0.1\u001b[0m\u001b[0;34m**\u001b[0m\u001b[0;36m2\u001b[0m\u001b[0;34m)\u001b[0m\u001b[0;34m\u001b[0m\u001b[0m\n\u001b[0m\u001b[1;32m     60\u001b[0m     \u001b[0;34m\"x^*=%.4f, f(x^*)=%.4f\"\u001b[0m \u001b[0;34m%\u001b[0m \u001b[0;34m(\u001b[0m\u001b[0mres\u001b[0m\u001b[0;34m.\u001b[0m\u001b[0mx\u001b[0m\u001b[0;34m[\u001b[0m\u001b[0;36m0\u001b[0m\u001b[0;34m]\u001b[0m\u001b[0;34m,\u001b[0m \u001b[0mres\u001b[0m\u001b[0;34m.\u001b[0m\u001b[0mfun\u001b[0m\u001b[0;34m)\u001b[0m\u001b[0;34m\u001b[0m\u001b[0m\n\u001b[1;32m     61\u001b[0m     \u001b[0mplot\u001b[0m \u001b[0;34m=\u001b[0m \u001b[0mplot_convergence\u001b[0m\u001b[0;34m(\u001b[0m\u001b[0mres\u001b[0m\u001b[0;34m)\u001b[0m\u001b[0;34m\u001b[0m\u001b[0m\n",
      "\u001b[0;32m/var/folders/vs/1xlk3mtx3snc_3pkpydm2wh80000gn/T/ipykernel_75587/2015737195.py\u001b[0m in \u001b[0;36mfunc\u001b[0;34m(param, *args)\u001b[0m\n\u001b[1;32m     44\u001b[0m \u001b[0;32mdef\u001b[0m \u001b[0mfunc\u001b[0m\u001b[0;34m(\u001b[0m\u001b[0mparam\u001b[0m\u001b[0;34m,\u001b[0m \u001b[0;34m*\u001b[0m\u001b[0margs\u001b[0m\u001b[0;34m)\u001b[0m\u001b[0;34m:\u001b[0m\u001b[0;34m\u001b[0m\u001b[0m\n\u001b[1;32m     45\u001b[0m     \u001b[0mG\u001b[0m \u001b[0;34m=\u001b[0m \u001b[0margs\u001b[0m\u001b[0;34m[\u001b[0m\u001b[0;36m0\u001b[0m\u001b[0;34m]\u001b[0m\u001b[0;34m\u001b[0m\u001b[0m\n\u001b[0;32m---> 46\u001b[0;31m     \u001b[0mpenalty_val\u001b[0m \u001b[0;34m=\u001b[0m \u001b[0margs\u001b[0m\u001b[0;34m[\u001b[0m\u001b[0;36m1\u001b[0m\u001b[0;34m]\u001b[0m\u001b[0;34m\u001b[0m\u001b[0m\n\u001b[0m\u001b[1;32m     47\u001b[0m     \u001b[0mC\u001b[0m \u001b[0;34m=\u001b[0m \u001b[0mquantum_loop\u001b[0m\u001b[0;34m(\u001b[0m\u001b[0mparam\u001b[0m\u001b[0;34m)\u001b[0m\u001b[0;34m\u001b[0m\u001b[0m\n\u001b[1;32m     48\u001b[0m     \u001b[0mcost\u001b[0m \u001b[0;34m=\u001b[0m \u001b[0mget_cost\u001b[0m\u001b[0;34m(\u001b[0m\u001b[0mC\u001b[0m\u001b[0;34m,\u001b[0m \u001b[0mG\u001b[0m\u001b[0;34m,\u001b[0m\u001b[0mpenalty_val\u001b[0m\u001b[0;34m)\u001b[0m\u001b[0;34m\u001b[0m\u001b[0m\n",
      "\u001b[0;31mIndexError\u001b[0m: tuple index out of range"
     ]
    }
   ],
   "source": [
    "bo_res = BO(100,LAYERS,G,penalty_val)"
   ]
  },
  {
   "cell_type": "code",
   "execution_count": 47,
   "id": "a395f669",
   "metadata": {},
   "outputs": [
    {
     "ename": "NameError",
     "evalue": "name 'bo_res' is not defined",
     "output_type": "error",
     "traceback": [
      "\u001b[0;31m---------------------------------------------------------------------------\u001b[0m",
      "\u001b[0;31mNameError\u001b[0m                                 Traceback (most recent call last)",
      "\u001b[0;32m/var/folders/vs/1xlk3mtx3snc_3pkpydm2wh80000gn/T/ipykernel_75587/2224678847.py\u001b[0m in \u001b[0;36m<module>\u001b[0;34m\u001b[0m\n\u001b[0;32m----> 1\u001b[0;31m \u001b[0mcount_dict\u001b[0m \u001b[0;34m=\u001b[0m \u001b[0mquantum_loop\u001b[0m\u001b[0;34m(\u001b[0m\u001b[0mbo_res\u001b[0m\u001b[0;34m.\u001b[0m\u001b[0mx\u001b[0m\u001b[0;34m)\u001b[0m\u001b[0;34m\u001b[0m\u001b[0m\n\u001b[0m\u001b[1;32m      2\u001b[0m \u001b[0mplot_distribution\u001b[0m\u001b[0;34m(\u001b[0m\u001b[0mcount_dict\u001b[0m\u001b[0;34m)\u001b[0m\u001b[0;34m\u001b[0m\u001b[0m\n",
      "\u001b[0;31mNameError\u001b[0m: name 'bo_res' is not defined"
     ]
    }
   ],
   "source": [
    "count_dict = quantum_loop(bo_res.x)\n",
    "plot_distribution(count_dict)"
   ]
  },
  {
   "cell_type": "code",
   "execution_count": null,
   "id": "7e7eb7aa",
   "metadata": {},
   "outputs": [],
   "source": []
  }
 ],
 "metadata": {
  "kernelspec": {
   "display_name": "Python 3 (ipykernel)",
   "language": "python",
   "name": "python3"
  },
  "language_info": {
   "codemirror_mode": {
    "name": "ipython",
    "version": 3
   },
   "file_extension": ".py",
   "mimetype": "text/x-python",
   "name": "python",
   "nbconvert_exporter": "python",
   "pygments_lexer": "ipython3",
   "version": "3.7.0"
  }
 },
 "nbformat": 4,
 "nbformat_minor": 5
}
