{
  "nbformat": 4,
  "nbformat_minor": 0,
  "metadata": {
    "colab": {
      "name": "QAOA_tutorial.ipynb",
      "provenance": [],
      "collapsed_sections": [],
      "authorship_tag": "ABX9TyNkQca+K6D0fhJeHEU9Nlkq",
      "include_colab_link": true
    },
    "kernelspec": {
      "name": "python3",
      "display_name": "Python 3"
    },
    "language_info": {
      "name": "python"
    }
  },
  "cells": [
    {
      "cell_type": "markdown",
      "metadata": {
        "id": "view-in-github",
        "colab_type": "text"
      },
      "source": [
        "<a href=\"https://colab.research.google.com/github/dmao1020/bigqhack_QAI_2022/blob/main/QAOA_tutorial.ipynb\" target=\"_parent\"><img src=\"https://colab.research.google.com/assets/colab-badge.svg\" alt=\"Open In Colab\"/></a>"
      ]
    },
    {
      "cell_type": "code",
      "execution_count": 18,
      "metadata": {
        "id": "zujYWfwtqeua"
      },
      "outputs": [],
      "source": [
        "#pip install pulser"
      ]
    },
    {
      "cell_type": "code",
      "source": [
        "#pip install igraph"
      ],
      "metadata": {
        "id": "CJYOG5y3qg8j"
      },
      "execution_count": 96,
      "outputs": []
    },
    {
      "cell_type": "code",
      "source": [
        "import numpy as np\n",
        "import igraph\n",
        "from itertools import combinations\n",
        "\n",
        "import matplotlib.pyplot as plt\n",
        "\n",
        "from pulser import Pulse, Sequence, Register\n",
        "from pulser_simulation import Simulation\n",
        "from pulser.devices import Chadoq2\n",
        "\n",
        "from scipy.optimize import minimize"
      ],
      "metadata": {
        "id": "jh42cTo1qjgQ"
      },
      "execution_count": 191,
      "outputs": []
    },
    {
      "cell_type": "code",
      "source": [
        "def pos_to_graph(pos):\n",
        "    rb = Chadoq2.rydberg_blockade_radius(1.0)\n",
        "    g = igraph.Graph()\n",
        "    N = len(pos)\n",
        "    edges = [\n",
        "        [m, n]\n",
        "        for m, n in combinations(range(N), r=2)\n",
        "        if np.linalg.norm(pos[m] - pos[n]) < rb\n",
        "    ]\n",
        "    g.add_vertices(N)\n",
        "    g.add_edges(edges)\n",
        "    return g"
      ],
      "metadata": {
        "id": "YUg-GiYVqn0g"
      },
      "execution_count": 237,
      "outputs": []
    },
    {
      "cell_type": "code",
      "source": [
        "pos =np.array([[0.0, 0.0], \n",
        "               [0.0, -10.0],\n",
        "               [-8, -15], \n",
        "               [8, -15], \n",
        "               [8, 6], \n",
        "               [-8, 6]])\n",
        "#([[0,1],[0,2],[0,3],[1,4],[1,5]])\n",
        "#np.array([[0.0, 0.0], [-4, -7], [4, -7], [8, 6], [-8, 6]])\n",
        "\n",
        "G = pos_to_graph(pos)\n",
        "qubits = dict(enumerate(pos))\n",
        "\n",
        "reg = Register(qubits)\n",
        "reg.draw(\n",
        "    blockade_radius=Chadoq2.rydberg_blockade_radius(1.0),\n",
        "    draw_graph=True,\n",
        "    draw_half_radius=True,\n",
        ")"
      ],
      "metadata": {
        "colab": {
          "base_uri": "https://localhost:8080/",
          "height": 347
        },
        "id": "qNK8BKVOrG-X",
        "outputId": "8e60ea42-3345-4fd2-b195-cba62ae2394b"
      },
      "execution_count": 244,
      "outputs": [
        {
          "output_type": "display_data",
          "data": {
            "text/plain": [
              "<Figure size 288x378 with 1 Axes>"
            ],
            "image/png": "[encoded data removed]"
          },
          "metadata": {
            "needs_background": "light"
          }
        }
      ]
    },
    {
      "cell_type": "code",
      "source": [
        "LAYERS = 2\n",
        "\n",
        "# Parametrized sequence\n",
        "seq = Sequence(reg, Chadoq2)\n",
        "seq.declare_channel(\"ch0\", \"rydberg_global\")\n",
        "\n",
        "t_list = seq.declare_variable(\"t_list\", size=LAYERS)\n",
        "s_list = seq.declare_variable(\"s_list\", size=LAYERS)\n",
        "\n",
        "if LAYERS == 1:\n",
        "    t_list = [t_list]\n",
        "    s_list = [s_list]\n",
        "\n",
        "for t, s in zip(t_list, s_list):\n",
        "    pulse_1 = Pulse.ConstantPulse(1000 * t, 1.0, 0.0, 0)\n",
        "    pulse_2 = Pulse.ConstantPulse(1000 * s, 1.0, 1.0, 0)\n",
        "\n",
        "    seq.add(pulse_1, \"ch0\")\n",
        "    seq.add(pulse_2, \"ch0\")\n",
        "\n",
        "seq.measure(\"ground-rydberg\")"
      ],
      "metadata": {
        "id": "SkMpsVE-_X08"
      },
      "execution_count": 245,
      "outputs": []
    },
    {
      "cell_type": "code",
      "source": [
        "guess = {\n",
        "    \"t\": np.random.uniform(8, 10, LAYERS),\n",
        "    \"s\": np.random.uniform(1, 3, LAYERS),\n",
        "}"
      ],
      "metadata": {
        "id": "n4TCq9W9rU5n"
      },
      "execution_count": 247,
      "outputs": []
    },
    {
      "cell_type": "code",
      "source": [
        "example_dict = quantum_loop(np.r_[guess[\"t\"], guess[\"s\"]])\n",
        "\n"
      ],
      "metadata": {
        "id": "R1OpL8POsvjq"
      },
      "execution_count": 248,
      "outputs": []
    },
    {
      "cell_type": "code",
      "source": [
        "def plot_distribution(C):\n",
        "    C = dict(sorted(C.items(), key=lambda item: item[1], reverse=True))\n",
        "    indexes = [\"01011\", \"00111\"]  # MIS indexes\n",
        "    color_dict = {key: \"r\" if key in indexes else \"g\" for key in C}\n",
        "    plt.figure(figsize=(12, 6))\n",
        "    plt.xlabel(\"bitstrings\")\n",
        "    plt.ylabel(\"counts\")\n",
        "    plt.bar(C.keys(), C.values(), width=0.5, color=color_dict.values())\n",
        "    plt.xticks(rotation=\"vertical\")\n",
        "    plt.show()"
      ],
      "metadata": {
        "id": "_mGgsAQ3xY6K"
      },
      "execution_count": 249,
      "outputs": []
    },
    {
      "cell_type": "code",
      "source": [
        "plot_distribution(example_dict)\n"
      ],
      "metadata": {
        "colab": {
          "base_uri": "https://localhost:8080/",
          "height": 416
        },
        "id": "f0FwTq4Sz4C1",
        "outputId": "10dcb57b-20a5-4f54-da6c-5067cf66e713"
      },
      "execution_count": 250,
      "outputs": [
        {
          "output_type": "display_data",
          "data": {
            "text/plain": [
              "<Figure size 864x432 with 1 Axes>"
            ],
            "image/png": "[encoded data removed]"
          },
          "metadata": {
            "needs_background": "light"
          }
        }
      ]
    },
    {
      "cell_type": "code",
      "source": [
        "def get_cost_colouring(bitstring, G, penalty=10):\n",
        "    z = np.array(list(bitstring), dtype=int)\n",
        "    A = np.array(G.get_adjacency().data)\n",
        "    # Add penalty and bias:\n",
        "    cost = penalty * (z.T @ np.triu(A) @ z) - np.sum(z)\n",
        "    return cost\n",
        "\n",
        "\n",
        "def get_cost(counter, G):\n",
        "    cost = sum(counter[key] * get_cost_colouring(key, G) for key in counter)\n",
        "    return cost / sum(counter.values())  # Divi"
      ],
      "metadata": {
        "id": "1UBuiq851RWY"
      },
      "execution_count": 251,
      "outputs": []
    },
    {
      "cell_type": "code",
      "source": [
        "get_cost_colouring(\"110000\", G)\n"
      ],
      "metadata": {
        "colab": {
          "base_uri": "https://localhost:8080/"
        },
        "id": "mn3COdExGzJ8",
        "outputId": "456422a2-29c7-4b36-c4ef-da7801aa84d0"
      },
      "execution_count": 252,
      "outputs": [
        {
          "output_type": "execute_result",
          "data": {
            "text/plain": [
              "8"
            ]
          },
          "metadata": {},
          "execution_count": 252
        }
      ]
    },
    {
      "cell_type": "code",
      "source": [
        "get_cost(example_dict, G)"
      ],
      "metadata": {
        "colab": {
          "base_uri": "https://localhost:8080/"
        },
        "id": "JPFMrJwXG0ZM",
        "outputId": "3d275d3d-d63f-4f15-fae0-20c79c6a8a47"
      },
      "execution_count": 253,
      "outputs": [
        {
          "output_type": "execute_result",
          "data": {
            "text/plain": [
              "-1.02"
            ]
          },
          "metadata": {},
          "execution_count": 253
        }
      ]
    },
    {
      "cell_type": "code",
      "source": [
        "def func(param, *args):\n",
        "    G = args[0]\n",
        "    C = quantum_loop(param)\n",
        "    cost = get_cost(C, G)\n",
        "    return cost"
      ],
      "metadata": {
        "id": "waL6svZoPXy6"
      },
      "execution_count": 254,
      "outputs": []
    },
    {
      "cell_type": "code",
      "source": [
        "res = minimize(\n",
        "    func,\n",
        "    args=G,\n",
        "    x0=np.r_[guess[\"t\"], guess[\"s\"]],\n",
        "    method=\"Nelder-Mead\",\n",
        "    tol=1e-5,\n",
        "    options={\"maxiter\": 100},\n",
        ")"
      ],
      "metadata": {
        "id": "p4YVGi0DIHy4"
      },
      "execution_count": 255,
      "outputs": []
    },
    {
      "cell_type": "code",
      "source": [
        "count_dict = quantum_loop(res.x)\n",
        "plot_distribution(count_dict)"
      ],
      "metadata": {
        "colab": {
          "base_uri": "https://localhost:8080/",
          "height": 416
        },
        "id": "xRBOWChDI9Uq",
        "outputId": "bfab7564-6a3a-401d-a87b-8cd297ef8b2f"
      },
      "execution_count": 256,
      "outputs": [
        {
          "output_type": "display_data",
          "data": {
            "text/plain": [
              "<Figure size 864x432 with 1 Axes>"
            ],
            "image/png": "[encoded data removed]"
          },
          "metadata": {
            "needs_background": "light"
          }
        }
      ]
    },
    {
      "cell_type": "code",
      "source": [
        "import operator\n",
        "\n",
        "print (\"count_dict:\",count_dict)\n",
        "sorted_x = sorted(count_dict.items(), key=operator.itemgetter(1))\n",
        "print (sorted_x)"
      ],
      "metadata": {
        "colab": {
          "base_uri": "https://localhost:8080/"
        },
        "id": "SIs0-e76dnnd",
        "outputId": "55e93918-0f04-4572-d6fa-9614a9004a32"
      },
      "execution_count": 270,
      "outputs": [
        {
          "output_type": "stream",
          "name": "stdout",
          "text": [
            "count_dict: Counter({'101100': 214, '010011': 204, '100000': 107, '000000': 94, '010000': 80, '001111': 39, '101000': 34, '000001': 33, '000010': 28, '000100': 27, '100100': 26, '001000': 18, '010001': 15, '010010': 10, '000111': 9, '000011': 7, '000110': 7, '001001': 7, '001010': 5, '001101': 5, '000101': 4, '001011': 4, '001100': 4, '010100': 3, '010111': 3, '011000': 3, '011011': 3, '101101': 2, '001110': 1, '100001': 1, '100101': 1, '101001': 1, '110000': 1})\n",
            "[('001110', 1), ('100001', 1), ('100101', 1), ('101001', 1), ('110000', 1), ('101101', 2), ('010100', 3), ('010111', 3), ('011000', 3), ('011011', 3), ('000101', 4), ('001011', 4), ('001100', 4), ('001010', 5), ('001101', 5), ('000011', 7), ('000110', 7), ('001001', 7), ('000111', 9), ('010010', 10), ('010001', 15), ('001000', 18), ('100100', 26), ('000100', 27), ('000010', 28), ('000001', 33), ('101000', 34), ('001111', 39), ('010000', 80), ('000000', 94), ('100000', 107), ('010011', 204), ('101100', 214)]\n"
          ]
        }
      ]
    },
    {
      "cell_type": "code",
      "source": [
        ""
      ],
      "metadata": {
        "id": "9cjulr6JRW_w"
      },
      "execution_count": null,
      "outputs": []
    },
    {
      "cell_type": "code",
      "source": [
        "opt_1 = sorted_x[0][0]\n",
        "A = np.array(G.get_adjacency().data)\n",
        "n,d = np.shape(A)\n",
        "for i in range(d):\n",
        "  row_i = A[i,:]\n",
        "  print (i,row_i)\n",
        "  if \n",
        "\n",
        "\n"
      ],
      "metadata": {
        "colab": {
          "base_uri": "https://localhost:8080/"
        },
        "id": "5k0yz18MqOna",
        "outputId": "c8ff73f9-fab0-403f-950a-9fb3f31d3d62"
      },
      "execution_count": 276,
      "outputs": [
        {
          "output_type": "stream",
          "name": "stdout",
          "text": [
            "0 [0 1 0 0 1 1]\n",
            "1 [1 0 1 1 0 0]\n",
            "2 [0 1 0 0 0 0]\n",
            "3 [0 1 0 0 0 0]\n",
            "4 [1 0 0 0 0 0]\n",
            "5 [1 0 0 0 0 0]\n"
          ]
        }
      ]
    },
    {
      "cell_type": "code",
      "source": [
        ""
      ],
      "metadata": {
        "id": "pl57d0IcRO2j"
      },
      "execution_count": null,
      "outputs": []
    }
  ]
}